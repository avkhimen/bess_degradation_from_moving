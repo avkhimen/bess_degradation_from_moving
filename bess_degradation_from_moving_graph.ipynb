{
 "cells": [
  {
   "cell_type": "code",
   "execution_count": 2,
   "id": "fe0fd861",
   "metadata": {},
   "outputs": [],
   "source": [
    "from gurobipy import Model, GRB\n",
    "import time\n",
    "import pandas as pd\n",
    "import numpy as np\n",
    "#from pylinerating.ieee738 import thermal_rating\n",
    "#from pylinerating import conductor\n",
    "import matplotlib.pyplot as plt\n",
    "from tqdm import tqdm\n",
    "plt.rcParams[\"figure.figsize\"] = (20,8)\n",
    "import pickle\n",
    "import json\n",
    "from IPython.display import Image\n",
    "from tqdm import tqdm"
   ]
  },
  {
   "cell_type": "code",
   "execution_count": 6,
   "id": "09b5a53c",
   "metadata": {},
   "outputs": [],
   "source": [
    "f = open('final_SOH_per_comb.json')\n",
    "\n",
    "final_SOH_per_comb = json.load(f)\n",
    "\n",
    "f.close()"
   ]
  },
  {
   "cell_type": "code",
   "execution_count": 7,
   "id": "f2dc9bb5",
   "metadata": {},
   "outputs": [],
   "source": [
    "f = open('bess_cap_year_comb.json')\n",
    "\n",
    "bess_cap_year_comb = json.load(f)\n",
    "\n",
    "f.close()"
   ]
  },
  {
   "cell_type": "code",
   "execution_count": 8,
   "id": "ccefa895",
   "metadata": {},
   "outputs": [],
   "source": [
    "f = open('bess_power_rating_year_comb.json')\n",
    "\n",
    "bess_power_rating_year_comb = json.load(f)\n",
    "\n",
    "f.close()"
   ]
  },
  {
   "cell_type": "code",
   "execution_count": null,
   "id": "02a111e2",
   "metadata": {},
   "outputs": [],
   "source": [
    "x , y = [], []\n",
    "for k, v in final_SOH_per_comb.items():\n",
    "    x.append(str(k))\n",
    "    y.append(v)\n",
    "ax1 = plt.subplot()\n",
    "l1, = ax1.plot(x,y, color='blue')\n",
    "plt.plot(x, len(x)*[0.8], '--', color = 'red')\n",
    "\n",
    "ax1.set_xlabel('Year Combination', fontsize = 15)\n",
    "ax1.set_ylabel('SOH [-]', fontsize = 15)\n",
    "\n",
    "x_ , y_ = [], []\n",
    "for k, v in bess_cap_year_comb.items():\n",
    "    x_.append(str(k))\n",
    "    y_.append(v)\n",
    "ax2 = ax1.twinx()\n",
    "l2, = ax2.plot(x_,y_, color='green')\n",
    "\n",
    "ax2.set_ylabel('BESS Capacity [GWmin]', fontsize = 15)\n",
    "\n",
    "plt.title('SOH [-] and BESS Capacity [GWmin] for Year Combinations', fontsize = 15)\n",
    "plt.legend([l1, l2], [\"SOH\", \"BESS Capacity\"]);"
   ]
  }
 ],
 "metadata": {
  "kernelspec": {
   "display_name": "Python 3 (ipykernel)",
   "language": "python",
   "name": "python3"
  },
  "language_info": {
   "codemirror_mode": {
    "name": "ipython",
    "version": 3
   },
   "file_extension": ".py",
   "mimetype": "text/x-python",
   "name": "python",
   "nbconvert_exporter": "python",
   "pygments_lexer": "ipython3",
   "version": "3.8.12"
  },
  "varInspector": {
   "cols": {
    "lenName": 16,
    "lenType": 16,
    "lenVar": 40
   },
   "kernels_config": {
    "python": {
     "delete_cmd_postfix": "",
     "delete_cmd_prefix": "del ",
     "library": "var_list.py",
     "varRefreshCmd": "print(var_dic_list())"
    },
    "r": {
     "delete_cmd_postfix": ") ",
     "delete_cmd_prefix": "rm(",
     "library": "var_list.r",
     "varRefreshCmd": "cat(var_dic_list()) "
    }
   },
   "types_to_exclude": [
    "module",
    "function",
    "builtin_function_or_method",
    "instance",
    "_Feature"
   ],
   "window_display": false
  }
 },
 "nbformat": 4,
 "nbformat_minor": 5
}
